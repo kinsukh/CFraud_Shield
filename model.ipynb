{
 "cells": [
  {
   "cell_type": "markdown",
   "metadata": {},
   "source": [
    "#### importing all necessary libraries\n",
    "\n"
   ]
  },
  {
   "cell_type": "code",
   "execution_count": 14,
   "metadata": {},
   "outputs": [],
   "source": [
    "import pandas as pd "
   ]
  },
  {
   "cell_type": "markdown",
   "metadata": {},
   "source": [
    "#### converting the csv data to json type for inserting into database\n"
   ]
  },
  {
   "cell_type": "code",
   "execution_count": 31,
   "metadata": {},
   "outputs": [],
   "source": [
    "## a simple way to convert a file in different format to standard csv format\n",
    "\n",
    "import csv\n",
    "list = []\n",
    "with open(\"D:\\Projects\\Credit_car_fraud_detection\\creditcard.csv\", 'r') as file:\n",
    "    data = csv.reader(file,delimiter = '\\n')  # extracting one row \n",
    "    for i in data:\n",
    "        list.append(i[0].split(',')) #splitting the data with delimiter ;"
   ]
  },
  {
   "cell_type": "code",
   "execution_count": 2,
   "metadata": {},
   "outputs": [],
   "source": [
    "with open('D:\\Projects\\Credit_car_fraud_detection\\creditcard_new.csv', 'w',newline='') as data:\n",
    "    writer = csv.writer(data)\n",
    "    writer.writerows(list)"
   ]
  },
  {
   "cell_type": "code",
   "execution_count": 32,
   "metadata": {},
   "outputs": [
    {
     "name": "stdout",
     "output_type": "stream",
     "text": [
      "   Time        V1        V2        V3        V4        V5        V6        V7   \n",
      "0   0.0 -1.359807 -0.072781  2.536347  1.378155 -0.338321  0.462388  0.239599  \\\n",
      "1   0.0  1.191857  0.266151  0.166480  0.448154  0.060018 -0.082361 -0.078803   \n",
      "2   1.0 -1.358354 -1.340163  1.773209  0.379780 -0.503198  1.800499  0.791461   \n",
      "3   1.0 -0.966272 -0.185226  1.792993 -0.863291 -0.010309  1.247203  0.237609   \n",
      "4   2.0 -1.158233  0.877737  1.548718  0.403034 -0.407193  0.095921  0.592941   \n",
      "\n",
      "         V8        V9  ...       V21       V22       V23       V24       V25   \n",
      "0  0.098698  0.363787  ... -0.018307  0.277838 -0.110474  0.066928  0.128539  \\\n",
      "1  0.085102 -0.255425  ... -0.225775 -0.638672  0.101288 -0.339846  0.167170   \n",
      "2  0.247676 -1.514654  ...  0.247998  0.771679  0.909412 -0.689281 -0.327642   \n",
      "3  0.377436 -1.387024  ... -0.108300  0.005274 -0.190321 -1.175575  0.647376   \n",
      "4 -0.270533  0.817739  ... -0.009431  0.798278 -0.137458  0.141267 -0.206010   \n",
      "\n",
      "        V26       V27       V28  Amount  Class  \n",
      "0 -0.189115  0.133558 -0.021053  149.62      0  \n",
      "1  0.125895 -0.008983  0.014724    2.69      0  \n",
      "2 -0.139097 -0.055353 -0.059752  378.66      0  \n",
      "3 -0.221929  0.062723  0.061458  123.50      0  \n",
      "4  0.502292  0.219422  0.215153   69.99      0  \n",
      "\n",
      "[5 rows x 31 columns]\n",
      "(284807, 31)\n"
     ]
    }
   ],
   "source": [
    "import pandas as pd\n",
    "\n",
    "df = pd.read_csv('D:\\Projects\\Credit_car_fraud_detection\\creditcard.csv')\n",
    "print(df.head())\n",
    "print(df.shape)"
   ]
  },
  {
   "cell_type": "code",
   "execution_count": 33,
   "metadata": {},
   "outputs": [
    {
     "data": {
      "text/plain": [
       "[{'Time': 0.0,\n",
       "  'V1': -1.3598071336738,\n",
       "  'V2': -0.0727811733098497,\n",
       "  'V3': 2.53634673796914,\n",
       "  'V4': 1.37815522427443,\n",
       "  'V5': -0.338320769942518,\n",
       "  'V6': 0.462387777762292,\n",
       "  'V7': 0.239598554061257,\n",
       "  'V8': 0.0986979012610507,\n",
       "  'V9': 0.363786969611213,\n",
       "  'V10': 0.0907941719789316,\n",
       "  'V11': -0.551599533260813,\n",
       "  'V12': -0.617800855762348,\n",
       "  'V13': -0.991389847235408,\n",
       "  'V14': -0.311169353699879,\n",
       "  'V15': 1.46817697209427,\n",
       "  'V16': -0.470400525259478,\n",
       "  'V17': 0.207971241929242,\n",
       "  'V18': 0.0257905801985591,\n",
       "  'V19': 0.403992960255733,\n",
       "  'V20': 0.251412098239705,\n",
       "  'V21': -0.018306777944153,\n",
       "  'V22': 0.277837575558899,\n",
       "  'V23': -0.110473910188767,\n",
       "  'V24': 0.0669280749146731,\n",
       "  'V25': 0.128539358273528,\n",
       "  'V26': -0.189114843888824,\n",
       "  'V27': 0.133558376740387,\n",
       "  'V28': -0.0210530534538215,\n",
       "  'Amount': 149.62,\n",
       "  'Class': 0},\n",
       " {'Time': 0.0,\n",
       "  'V1': 1.19185711131486,\n",
       "  'V2': 0.26615071205963,\n",
       "  'V3': 0.16648011335321,\n",
       "  'V4': 0.448154078460911,\n",
       "  'V5': 0.0600176492822243,\n",
       "  'V6': -0.0823608088155687,\n",
       "  'V7': -0.0788029833323113,\n",
       "  'V8': 0.0851016549148104,\n",
       "  'V9': -0.255425128109186,\n",
       "  'V10': -0.166974414004614,\n",
       "  'V11': 1.61272666105479,\n",
       "  'V12': 1.06523531137287,\n",
       "  'V13': 0.48909501589608,\n",
       "  'V14': -0.143772296441519,\n",
       "  'V15': 0.635558093258208,\n",
       "  'V16': 0.463917041022171,\n",
       "  'V17': -0.114804663102346,\n",
       "  'V18': -0.183361270123994,\n",
       "  'V19': -0.145783041325259,\n",
       "  'V20': -0.0690831352230203,\n",
       "  'V21': -0.225775248033138,\n",
       "  'V22': -0.638671952771851,\n",
       "  'V23': 0.101288021253234,\n",
       "  'V24': -0.339846475529127,\n",
       "  'V25': 0.167170404418143,\n",
       "  'V26': 0.125894532368176,\n",
       "  'V27': -0.0089830991432281,\n",
       "  'V28': 0.0147241691924927,\n",
       "  'Amount': 2.69,\n",
       "  'Class': 0},\n",
       " {'Time': 1.0,\n",
       "  'V1': -1.35835406159823,\n",
       "  'V2': -1.34016307473609,\n",
       "  'V3': 1.77320934263119,\n",
       "  'V4': 0.379779593034328,\n",
       "  'V5': -0.503198133318193,\n",
       "  'V6': 1.80049938079263,\n",
       "  'V7': 0.791460956450422,\n",
       "  'V8': 0.247675786588991,\n",
       "  'V9': -1.51465432260583,\n",
       "  'V10': 0.207642865216696,\n",
       "  'V11': 0.624501459424895,\n",
       "  'V12': 0.066083685268831,\n",
       "  'V13': 0.717292731410831,\n",
       "  'V14': -0.165945922763554,\n",
       "  'V15': 2.34586494901581,\n",
       "  'V16': -2.89008319444231,\n",
       "  'V17': 1.10996937869599,\n",
       "  'V18': -0.121359313195888,\n",
       "  'V19': -2.26185709530414,\n",
       "  'V20': 0.524979725224404,\n",
       "  'V21': 0.247998153469754,\n",
       "  'V22': 0.771679401917229,\n",
       "  'V23': 0.909412262347719,\n",
       "  'V24': -0.689280956490685,\n",
       "  'V25': -0.327641833735251,\n",
       "  'V26': -0.139096571514147,\n",
       "  'V27': -0.0553527940384261,\n",
       "  'V28': -0.0597518405929204,\n",
       "  'Amount': 378.66,\n",
       "  'Class': 0},\n",
       " {'Time': 1.0,\n",
       "  'V1': -0.966271711572087,\n",
       "  'V2': -0.185226008082898,\n",
       "  'V3': 1.79299333957872,\n",
       "  'V4': -0.863291275036453,\n",
       "  'V5': -0.0103088796030823,\n",
       "  'V6': 1.24720316752486,\n",
       "  'V7': 0.23760893977178,\n",
       "  'V8': 0.377435874652262,\n",
       "  'V9': -1.38702406270197,\n",
       "  'V10': -0.0549519224713749,\n",
       "  'V11': -0.226487263835401,\n",
       "  'V12': 0.178228225877303,\n",
       "  'V13': 0.507756869957169,\n",
       "  'V14': -0.28792374549456,\n",
       "  'V15': -0.631418117709045,\n",
       "  'V16': -1.0596472454325,\n",
       "  'V17': -0.684092786345479,\n",
       "  'V18': 1.96577500349538,\n",
       "  'V19': -1.2326219700892,\n",
       "  'V20': -0.208037781160366,\n",
       "  'V21': -0.108300452035545,\n",
       "  'V22': 0.0052735967825345,\n",
       "  'V23': -0.190320518742841,\n",
       "  'V24': -1.17557533186321,\n",
       "  'V25': 0.647376034602038,\n",
       "  'V26': -0.221928844458407,\n",
       "  'V27': 0.0627228487293033,\n",
       "  'V28': 0.0614576285006353,\n",
       "  'Amount': 123.5,\n",
       "  'Class': 0},\n",
       " {'Time': 2.0,\n",
       "  'V1': -1.15823309349523,\n",
       "  'V2': 0.877736754848451,\n",
       "  'V3': 1.548717846511,\n",
       "  'V4': 0.403033933955121,\n",
       "  'V5': -0.407193377311653,\n",
       "  'V6': 0.0959214624684256,\n",
       "  'V7': 0.592940745385545,\n",
       "  'V8': -0.270532677192282,\n",
       "  'V9': 0.817739308235294,\n",
       "  'V10': 0.753074431976354,\n",
       "  'V11': -0.822842877946363,\n",
       "  'V12': 0.53819555014995,\n",
       "  'V13': 1.3458515932154,\n",
       "  'V14': -1.11966983471731,\n",
       "  'V15': 0.175121130008994,\n",
       "  'V16': -0.451449182813529,\n",
       "  'V17': -0.237033239362776,\n",
       "  'V18': -0.0381947870352842,\n",
       "  'V19': 0.803486924960175,\n",
       "  'V20': 0.408542360392758,\n",
       "  'V21': -0.0094306971323291,\n",
       "  'V22': 0.79827849458971,\n",
       "  'V23': -0.137458079619063,\n",
       "  'V24': 0.141266983824769,\n",
       "  'V25': -0.206009587619756,\n",
       "  'V26': 0.502292224181569,\n",
       "  'V27': 0.219422229513348,\n",
       "  'V28': 0.215153147499206,\n",
       "  'Amount': 69.99,\n",
       "  'Class': 0}]"
      ]
     },
     "execution_count": 33,
     "metadata": {},
     "output_type": "execute_result"
    }
   ],
   "source": [
    "data=df.to_dict(orient=\"records\")\n",
    "data[:5]"
   ]
  },
  {
   "cell_type": "code",
   "execution_count": 34,
   "metadata": {},
   "outputs": [
    {
     "name": "stderr",
     "output_type": "stream",
     "text": [
      "C:\\Users\\Lenovo\\AppData\\Local\\Temp\\ipykernel_15600\\1830839525.py:3: DeprecationWarning: database_names is deprecated. Use list_database_names instead.\n",
      "  client.database_names()\n"
     ]
    },
    {
     "data": {
      "text/plain": [
       "['admin', 'config', 'fraud_detection', 'local']"
      ]
     },
     "execution_count": 34,
     "metadata": {},
     "output_type": "execute_result"
    }
   ],
   "source": [
    "import pymongo as mongo\n",
    "client = mongo.MongoClient(r'mongodb://localhost:27017')\n",
    "client.database_names()"
   ]
  },
  {
   "cell_type": "code",
   "execution_count": 35,
   "metadata": {},
   "outputs": [
    {
     "name": "stdout",
     "output_type": "stream",
     "text": [
      "DB: 'fraud_detection' exists\n"
     ]
    }
   ],
   "source": [
    "def checkExistence_DB(DB_NAME, client):\n",
    "    \"\"\"It verifies the existence of DB\"\"\"\n",
    "    DBlist = client.list_database_names()\n",
    "    if DB_NAME in DBlist:\n",
    "        print(f\"DB: '{DB_NAME}' exists\")\n",
    "        return True\n",
    "    print(f\"DB: '{DB_NAME}' not yet present present in the DB\")\n",
    "    return False\n",
    "\n",
    "\n",
    "_ = checkExistence_DB(DB_NAME=\"fraud_detection\", client=client)"
   ]
  },
  {
   "cell_type": "code",
   "execution_count": 11,
   "metadata": {},
   "outputs": [
    {
     "data": {
      "text/plain": [
       "Collection(Database(MongoClient(host=['localhost:27017'], document_class=dict, tz_aware=False, connect=True), 'fraud_detection'), 'transactions')"
      ]
     },
     "execution_count": 11,
     "metadata": {},
     "output_type": "execute_result"
    }
   ],
   "source": [
    "database_name = 'fraud_detection'\n",
    "\n",
    "if checkExistence_DB(database_name,client):\n",
    "    db = client['fraud_detection']  # Create or connect to the 'fraud_detection' database \n",
    "    collection = db['transactions']  # Create or connect to the 'transactions' collection\n",
    "    # Insert the dataset into MongoDB\n",
    "    collection.insert_many(data)\n",
    "else:\n",
    "    db = client['fraud_detection']  # Create or connect to the 'fraud_detection' database \n",
    "    collection = db['transactions']  # Create or connect to the 'transactions' collection"
   ]
  },
  {
   "cell_type": "code",
   "execution_count": 22,
   "metadata": {},
   "outputs": [],
   "source": [
    "# Fetch data from MongoDB\n",
    "data = collection.find()\n",
    "df = pd.DataFrame(list(data))\n",
    "\n",
    "# Drop the MongoDB generated `_id` field if it exists\n",
    "if '_id' in df.columns:\n",
    "    df = df.drop('_id', axis=1)\n",
    "df.head()"
   ]
  },
  {
   "cell_type": "markdown",
   "metadata": {},
   "source": [
    "##### pre-processing\n"
   ]
  },
  {
   "cell_type": "code",
   "execution_count": 36,
   "metadata": {},
   "outputs": [
    {
     "data": {
      "text/plain": [
       "Class\n",
       "0    284315\n",
       "1       492\n",
       "Name: count, dtype: int64"
      ]
     },
     "execution_count": 36,
     "metadata": {},
     "output_type": "execute_result"
    }
   ],
   "source": [
    "df['Class'].value_counts()"
   ]
  },
  {
   "cell_type": "code",
   "execution_count": 38,
   "metadata": {},
   "outputs": [],
   "source": [
    "from sklearn.preprocessing import StandardScaler\n",
    "from sklearn.model_selection import train_test_split"
   ]
  },
  {
   "cell_type": "code",
   "execution_count": 39,
   "metadata": {},
   "outputs": [],
   "source": [
    "scalar = StandardScaler()\n",
    "X = df.drop('Class', axis=1)\n",
    "y = df.Class\n",
    "\n",
    "X = scalar.fit_transform(X)\n",
    "\n",
    "X_train, X_test, y_train, y_test = train_test_split(X, y, test_size=0.2, random_state=1)"
   ]
  },
  {
   "cell_type": "markdown",
   "metadata": {},
   "source": [
    "##### modeling"
   ]
  },
  {
   "cell_type": "code",
   "execution_count": 40,
   "metadata": {},
   "outputs": [],
   "source": [
    "from sklearn.svm import SVC"
   ]
  },
  {
   "cell_type": "code",
   "execution_count": 41,
   "metadata": {},
   "outputs": [
    {
     "name": "stdout",
     "output_type": "stream",
     "text": [
      "Train Score:-  0.9996752178015756\n",
      "Test Score:-  0.999385555282469\n"
     ]
    }
   ],
   "source": [
    "model_svc = SVC()\n",
    "model_svc.fit(X_train, y_train)\n",
    "print(\"Train Score:- \",model_svc.score(X_train,y_train))\n",
    "print(\"Test Score:- \",model_svc.score(X_test,y_test))\n"
   ]
  },
  {
   "cell_type": "code",
   "execution_count": 42,
   "metadata": {},
   "outputs": [],
   "source": [
    "y_predict = model_svc.predict(X_test)"
   ]
  },
  {
   "cell_type": "markdown",
   "metadata": {},
   "source": [
    "##### making report\n"
   ]
  },
  {
   "cell_type": "code",
   "execution_count": 43,
   "metadata": {},
   "outputs": [],
   "source": [
    "from sklearn.metrics import classification_report , confusion_matrix\n",
    "import numpy as np\n",
    "import seaborn as sns\n"
   ]
  },
  {
   "cell_type": "code",
   "execution_count": 44,
   "metadata": {},
   "outputs": [
    {
     "data": {
      "text/html": [
       "<div>\n",
       "<style scoped>\n",
       "    .dataframe tbody tr th:only-of-type {\n",
       "        vertical-align: middle;\n",
       "    }\n",
       "\n",
       "    .dataframe tbody tr th {\n",
       "        vertical-align: top;\n",
       "    }\n",
       "\n",
       "    .dataframe thead th {\n",
       "        text-align: right;\n",
       "    }\n",
       "</style>\n",
       "<table border=\"1\" class=\"dataframe\">\n",
       "  <thead>\n",
       "    <tr style=\"text-align: right;\">\n",
       "      <th></th>\n",
       "      <th>predicted fraud</th>\n",
       "      <th>predicted normal</th>\n",
       "    </tr>\n",
       "  </thead>\n",
       "  <tbody>\n",
       "    <tr>\n",
       "      <th>is Fraud</th>\n",
       "      <td>55</td>\n",
       "      <td>32</td>\n",
       "    </tr>\n",
       "    <tr>\n",
       "      <th>is Normal</th>\n",
       "      <td>3</td>\n",
       "      <td>56872</td>\n",
       "    </tr>\n",
       "  </tbody>\n",
       "</table>\n",
       "</div>"
      ],
      "text/plain": [
       "           predicted fraud  predicted normal\n",
       "is Fraud                55                32\n",
       "is Normal                3             56872"
      ]
     },
     "execution_count": 44,
     "metadata": {},
     "output_type": "execute_result"
    }
   ],
   "source": [
    "cm = np.array(confusion_matrix(y_test, y_predict, labels=[1,0]))\n",
    "confusion = pd.DataFrame(cm, index=['is Fraud', 'is Normal'],columns=['predicted fraud','predicted normal'])\n",
    "confusion"
   ]
  },
  {
   "cell_type": "code",
   "execution_count": 45,
   "metadata": {},
   "outputs": [
    {
     "data": {
      "text/plain": [
       "<Axes: >"
      ]
     },
     "execution_count": 45,
     "metadata": {},
     "output_type": "execute_result"
    },
    {
     "data": {
      "image/png": "[encoded data removed]",
      "text/plain": [
       "<Figure size 640x480 with 2 Axes>"
      ]
     },
     "metadata": {},
     "output_type": "display_data"
    }
   ],
   "source": [
    "sns.heatmap(confusion, annot=True)"
   ]
  },
  {
   "cell_type": "code",
   "execution_count": 46,
   "metadata": {},
   "outputs": [
    {
     "name": "stdout",
     "output_type": "stream",
     "text": [
      "              precision    recall  f1-score   support\n",
      "\n",
      "           0       1.00      1.00      1.00     56875\n",
      "           1       0.95      0.63      0.76        87\n",
      "\n",
      "    accuracy                           1.00     56962\n",
      "   macro avg       0.97      0.82      0.88     56962\n",
      "weighted avg       1.00      1.00      1.00     56962\n",
      "\n"
     ]
    }
   ],
   "source": [
    "print(classification_report(y_test, y_predict))"
   ]
  }
 ],
 "metadata": {
  "kernelspec": {
   "display_name": "Projects",
   "language": "python",
   "name": "python3"
  },
  "language_info": {
   "codemirror_mode": {
    "name": "ipython",
    "version": 3
   },
   "file_extension": ".py",
   "mimetype": "text/x-python",
   "name": "python",
   "nbconvert_exporter": "python",
   "pygments_lexer": "ipython3",
   "version": "3.11.3"
  }
 },
 "nbformat": 4,
 "nbformat_minor": 2
}
